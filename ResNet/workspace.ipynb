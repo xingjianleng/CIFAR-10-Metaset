{
 "cells": [
  {
   "cell_type": "markdown",
   "metadata": {},
   "source": [
    "### Import library"
   ]
  },
  {
   "cell_type": "code",
   "execution_count": 1,
   "metadata": {},
   "outputs": [],
   "source": [
    "from model import ResNetCifar\n",
    "from prediction import dataset_acc\n",
    "\n",
    "import torch"
   ]
  },
  {
   "cell_type": "markdown",
   "metadata": {},
   "source": [
    "### Predict the probability for each class"
   ]
  },
  {
   "cell_type": "code",
   "execution_count": 2,
   "metadata": {},
   "outputs": [
    {
     "data": {
      "text/plain": [
       "<All keys matched successfully>"
      ]
     },
     "execution_count": 2,
     "metadata": {},
     "output_type": "execute_result"
    }
   ],
   "source": [
    "# determine the device to use\n",
    "device = \"cuda\" if torch.cuda.is_available() else \"cpu\"\n",
    "\n",
    "# load the model\n",
    "model = ResNetCifar(depth=110).to(device)\n",
    "model.load_state_dict(torch.load(\"../model/resnet110-120.pt\", map_location=torch.device(device)))"
   ]
  },
  {
   "cell_type": "markdown",
   "metadata": {},
   "source": [
    "### Multiple images prediction"
   ]
  },
  {
   "cell_type": "code",
   "execution_count": 3,
   "metadata": {},
   "outputs": [
    {
     "name": "stdout",
     "output_type": "stream",
     "text": [
      "Acc for cat is: 0.4909090909090909\n",
      "Acc for sedans is: 0.48478015783540024\n",
      "Acc for dog is: 0.47029702970297027\n",
      "Acc for bird is: 0.7458471760797342\n",
      "Acc for airplane is: 0.9182058047493403\n",
      "Acc for ship is: 0.4504201680672269\n",
      "Acc for frog is: 0.6231404958677685\n",
      "Acc for horse is: 0.4698996655518395\n",
      "Acc for trucks is: 0.8125786163522013\n",
      "Acc for suvs is: 0.5755395683453237\n",
      "Acc for deer is: 0.8495867768595041\n"
     ]
    },
    {
     "data": {
      "text/plain": [
       "0.6326955074875208"
      ]
     },
     "execution_count": 3,
     "metadata": {},
     "output_type": "execute_result"
    }
   ],
   "source": [
    "dataset_acc('~/Downloads/dataset/F-8', model=model, device=device, verbose=True)"
   ]
  },
  {
   "cell_type": "code",
   "execution_count": null,
   "metadata": {},
   "outputs": [],
   "source": []
  }
 ],
 "metadata": {
  "kernelspec": {
   "display_name": "Python 3.10.8 ('vdu')",
   "language": "python",
   "name": "python3"
  },
  "language_info": {
   "codemirror_mode": {
    "name": "ipython",
    "version": 3
   },
   "file_extension": ".py",
   "mimetype": "text/x-python",
   "name": "python",
   "nbconvert_exporter": "python",
   "pygments_lexer": "ipython3",
   "version": "3.10.8"
  },
  "orig_nbformat": 4,
  "vscode": {
   "interpreter": {
    "hash": "d1521d0199cc4bdad11ed9d16c4211db8242811a511128819392787624d1ffb4"
   }
  }
 },
 "nbformat": 4,
 "nbformat_minor": 2
}
